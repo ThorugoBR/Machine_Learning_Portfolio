{
 "cells": [
  {
   "cell_type": "markdown",
   "metadata": {},
   "source": [
    "___\n",
    "\n",
    "<a href='http://www.pieriandata.com'><img src='../Pierian_Data_Logo.png'/></a>\n",
    "___\n",
    "<center><em>Copyright by Pierian Data Inc.</em></center>\n",
    "<center><em>For more information, visit us at <a href='http://www.pieriandata.com'>www.pieriandata.com</a></em></center>"
   ]
  },
  {
   "cell_type": "markdown",
   "metadata": {},
   "source": [
    "# Introduction to Cross Validation\n",
    "\n",
    "In this lecture series we will do a much deeper dive into various methods of cross-validation. As well as a discussion on the general philosphy behind cross validation. A nice official documentation guide can be found here: https://scikit-learn.org/stable/modules/cross_validation.html"
   ]
  },
  {
   "cell_type": "markdown",
   "metadata": {},
   "source": [
    "## Imports"
   ]
  },
  {
   "cell_type": "code",
   "execution_count": null,
   "metadata": {},
   "outputs": [],
   "source": [
    "import numpy as np\n",
    "import pandas as pd\n",
    "import matplotlib.pyplot as plt\n",
    "import seaborn as sns"
   ]
  },
  {
   "cell_type": "markdown",
   "metadata": {},
   "source": [
    "## Data Example"
   ]
  },
  {
   "cell_type": "code",
   "execution_count": null,
   "metadata": {},
   "outputs": [],
   "source": [
    "df = pd.read_csv(\"../DATA/Advertising.csv\")"
   ]
  },
  {
   "cell_type": "code",
   "execution_count": null,
   "metadata": {},
   "outputs": [],
   "source": [
    "df.head()"
   ]
  },
  {
   "cell_type": "markdown",
   "metadata": {},
   "source": [
    "----\n",
    "----\n",
    "----\n",
    "## Train | Test Split Procedure \n",
    "\n",
    "0. Clean and adjust data as necessary for X and y\n",
    "1. Split Data in Train/Test for both X and y\n",
    "2. Fit/Train Scaler on Training X Data\n",
    "3. Scale X Test Data\n",
    "4. Create Model\n",
    "5. Fit/Train Model on X Train Data\n",
    "6. Evaluate Model on X Test Data (by creating predictions and comparing to Y_test)\n",
    "7. Adjust Parameters as Necessary and repeat steps 5 and 6"
   ]
  },
  {
   "cell_type": "code",
   "execution_count": null,
   "metadata": {},
   "outputs": [],
   "source": [
    "## CREATE X and y\n",
    "X = df.drop('sales',axis=1)\n",
    "y = df['sales']\n",
    "\n",
    "# TRAIN TEST SPLIT\n",
    "from sklearn.model_selection import train_test_split\n",
    "X_train, X_test, y_train, y_test = train_test_split(X, y, test_size=0.3, random_state=101)\n",
    "\n",
    "# SCALE DATA\n",
    "from sklearn.preprocessing import StandardScaler\n",
    "scaler = StandardScaler()\n",
    "scaler.fit(X_train)\n",
    "X_train = scaler.transform(X_train)\n",
    "X_test = scaler.transform(X_test)"
   ]
  },
  {
   "cell_type": "markdown",
   "metadata": {},
   "source": [
    "**Create Model**"
   ]
  },
  {
   "cell_type": "code",
   "execution_count": null,
   "metadata": {},
   "outputs": [],
   "source": [
    "from sklearn.linear_model import Ridge"
   ]
  },
  {
   "cell_type": "code",
   "execution_count": null,
   "metadata": {},
   "outputs": [],
   "source": [
    "# Poor Alpha Choice on purpose!\n",
    "model = Ridge(alpha=100)"
   ]
  },
  {
   "cell_type": "code",
   "execution_count": null,
   "metadata": {},
   "outputs": [],
   "source": [
    "model.fit(X_train,y_train)"
   ]
  },
  {
   "cell_type": "code",
   "execution_count": null,
   "metadata": {},
   "outputs": [],
   "source": [
    "y_pred = model.predict(X_test)"
   ]
  },
  {
   "cell_type": "code",
   "execution_count": null,
   "metadata": {},
   "outputs": [],
   "source": [
    "y_pred"
   ]
  },
  {
   "cell_type": "markdown",
   "metadata": {},
   "source": [
    "**Evaluation**"
   ]
  },
  {
   "cell_type": "code",
   "execution_count": null,
   "metadata": {},
   "outputs": [],
   "source": [
    "from sklearn.metrics import mean_squared_error"
   ]
  },
  {
   "cell_type": "code",
   "execution_count": null,
   "metadata": {},
   "outputs": [],
   "source": [
    "mean_squared_error(y_test,y_pred)"
   ]
  },
  {
   "cell_type": "markdown",
   "metadata": {},
   "source": [
    "**Adjust Parameters and Re-evaluate**"
   ]
  },
  {
   "cell_type": "code",
   "execution_count": null,
   "metadata": {},
   "outputs": [],
   "source": [
    "model_2 = Ridge(alpha=1)"
   ]
  },
  {
   "cell_type": "code",
   "execution_count": null,
   "metadata": {},
   "outputs": [],
   "source": [
    "model_2.fit(X_train,y_train)"
   ]
  },
  {
   "cell_type": "code",
   "execution_count": null,
   "metadata": {},
   "outputs": [],
   "source": [
    "y_pred = model_2.predict(X_test)"
   ]
  },
  {
   "cell_type": "markdown",
   "metadata": {},
   "source": [
    "**Another Evaluation**"
   ]
  },
  {
   "cell_type": "code",
   "execution_count": null,
   "metadata": {
    "scrolled": true
   },
   "outputs": [],
   "source": [
    "mean_squared_error(y_test,y_pred)"
   ]
  },
  {
   "cell_type": "markdown",
   "metadata": {},
   "source": [
    "Much better! We could repeat this until satisfied with performance metrics. (We previously showed RidgeCV can do this for us, but the purpose of this lecture is to generalize the CV process for any model)."
   ]
  },
  {
   "cell_type": "markdown",
   "metadata": {},
   "source": [
    "----\n",
    "----\n",
    "----\n",
    "## Train | Validation | Test Split Procedure \n",
    "\n",
    "This is often also called a \"hold-out\" set, since you should not adjust parameters based on the final test set, but instead use it *only* for reporting final expected performance.\n",
    "\n",
    "0. Clean and adjust data as necessary for X and y\n",
    "1. Split Data in Train/Validation/Test for both X and y\n",
    "2. Fit/Train Scaler on Training X Data\n",
    "3. Scale X Eval Data\n",
    "4. Create Model\n",
    "5. Fit/Train Model on X Train Data\n",
    "6. Evaluate Model on X Evaluation Data (by creating predictions and comparing to Y_eval)\n",
    "7. Adjust Parameters as Necessary and repeat steps 5 and 6\n",
    "8. Get final metrics on Test set (not allowed to go back and adjust after this!)"
   ]
  },
  {
   "cell_type": "code",
   "execution_count": null,
   "metadata": {},
   "outputs": [],
   "source": [
    "## CREATE X and y\n",
    "X = df.drop('sales',axis=1)\n",
    "y = df['sales']"
   ]
  },
  {
   "cell_type": "code",
   "execution_count": null,
   "metadata": {},
   "outputs": [],
   "source": [
    "######################################################################\n",
    "#### SPLIT TWICE! Here we create TRAIN | VALIDATION | TEST  #########\n",
    "####################################################################\n",
    "from sklearn.model_selection import train_test_split\n",
    "\n",
    "# 70% of data is training data, set aside other 30%\n",
    "X_train, X_OTHER, y_train, y_OTHER = train_test_split(X, y, test_size=0.4, random_state=101)\n",
    "# Remaining 30% is split into evaluation and test sets\n",
    "# Each is 15% of the original data size\n",
    "X_eval, X_test, y_eval, y_test = train_test_split(X_OTHER, y_OTHER, test_size=0.5, random_state=101)"
   ]
  },
  {
   "cell_type": "code",
   "execution_count": null,
   "metadata": {},
   "outputs": [],
   "source": [
    "print(f'Original {len(df)} and evaluation {len(X_eval)}' )"
   ]
  },
  {
   "cell_type": "code",
   "execution_count": null,
   "metadata": {},
   "outputs": [],
   "source": [
    "# SCALE DATA\n",
    "from sklearn.preprocessing import StandardScaler\n",
    "scaler = StandardScaler()\n",
    "scaler.fit(X_train)\n",
    "X_train = scaler.transform(X_train)\n",
    "X_eval = scaler.transform(X_eval)\n",
    "X_test = scaler.transform(X_test)"
   ]
  },
  {
   "cell_type": "markdown",
   "metadata": {},
   "source": [
    "**Create Model**"
   ]
  },
  {
   "cell_type": "code",
   "execution_count": null,
   "metadata": {},
   "outputs": [],
   "source": [
    "from sklearn.linear_model import Ridge"
   ]
  },
  {
   "cell_type": "code",
   "execution_count": null,
   "metadata": {},
   "outputs": [],
   "source": [
    "# Poor Alpha Choice on purpose!\n",
    "model = Ridge(alpha=100)"
   ]
  },
  {
   "cell_type": "code",
   "execution_count": null,
   "metadata": {},
   "outputs": [],
   "source": [
    "model.fit(X_train,y_train)"
   ]
  },
  {
   "cell_type": "code",
   "execution_count": null,
   "metadata": {},
   "outputs": [],
   "source": [
    "y_eval_pred = model.predict(X_eval)"
   ]
  },
  {
   "cell_type": "markdown",
   "metadata": {},
   "source": [
    "**Evaluation**"
   ]
  },
  {
   "cell_type": "code",
   "execution_count": null,
   "metadata": {},
   "outputs": [],
   "source": [
    "from sklearn.metrics import mean_squared_error"
   ]
  },
  {
   "cell_type": "code",
   "execution_count": null,
   "metadata": {},
   "outputs": [],
   "source": [
    "mean_squared_error(y_eval,y_eval_pred)"
   ]
  },
  {
   "cell_type": "markdown",
   "metadata": {},
   "source": [
    "**Adjust Parameters and Re-evaluate**"
   ]
  },
  {
   "cell_type": "code",
   "execution_count": null,
   "metadata": {},
   "outputs": [],
   "source": [
    "model = Ridge(alpha=1)"
   ]
  },
  {
   "cell_type": "code",
   "execution_count": null,
   "metadata": {},
   "outputs": [],
   "source": [
    "model.fit(X_train,y_train)"
   ]
  },
  {
   "cell_type": "code",
   "execution_count": null,
   "metadata": {},
   "outputs": [],
   "source": [
    "y_eval_pred = model.predict(X_eval)"
   ]
  },
  {
   "cell_type": "markdown",
   "metadata": {},
   "source": [
    "**Another Evaluation**"
   ]
  },
  {
   "cell_type": "code",
   "execution_count": null,
   "metadata": {
    "scrolled": true
   },
   "outputs": [],
   "source": [
    "mean_squared_error(y_eval,y_eval_pred)"
   ]
  },
  {
   "cell_type": "markdown",
   "metadata": {},
   "source": [
    "**Final Evaluation (Can no longer edit parameters after this!)**"
   ]
  },
  {
   "cell_type": "code",
   "execution_count": null,
   "metadata": {},
   "outputs": [],
   "source": [
    "y_final_test_pred = model.predict(X_test)"
   ]
  },
  {
   "cell_type": "code",
   "execution_count": null,
   "metadata": {},
   "outputs": [],
   "source": [
    "mean_squared_error(y_test,y_final_test_pred)"
   ]
  },
  {
   "cell_type": "code",
   "execution_count": 1,
   "metadata": {},
   "outputs": [],
   "source": [
    "import numpy as np\n",
    "import pandas as pd\n",
    "import matplotlib.pyplot as plt\n",
    "import seaborn as sns\n",
    "from sklearn.linear_model import Ridge\n",
    "from sklearn.metrics import mean_squared_error"
   ]
  },
  {
   "cell_type": "code",
   "execution_count": 2,
   "metadata": {},
   "outputs": [
    {
     "data": {
      "text/html": [
       "<div>\n",
       "<style scoped>\n",
       "    .dataframe tbody tr th:only-of-type {\n",
       "        vertical-align: middle;\n",
       "    }\n",
       "\n",
       "    .dataframe tbody tr th {\n",
       "        vertical-align: top;\n",
       "    }\n",
       "\n",
       "    .dataframe thead th {\n",
       "        text-align: right;\n",
       "    }\n",
       "</style>\n",
       "<table border=\"1\" class=\"dataframe\">\n",
       "  <thead>\n",
       "    <tr style=\"text-align: right;\">\n",
       "      <th></th>\n",
       "      <th>TV</th>\n",
       "      <th>radio</th>\n",
       "      <th>newspaper</th>\n",
       "      <th>sales</th>\n",
       "    </tr>\n",
       "  </thead>\n",
       "  <tbody>\n",
       "    <tr>\n",
       "      <th>0</th>\n",
       "      <td>230.1</td>\n",
       "      <td>37.8</td>\n",
       "      <td>69.2</td>\n",
       "      <td>22.1</td>\n",
       "    </tr>\n",
       "    <tr>\n",
       "      <th>1</th>\n",
       "      <td>44.5</td>\n",
       "      <td>39.3</td>\n",
       "      <td>45.1</td>\n",
       "      <td>10.4</td>\n",
       "    </tr>\n",
       "    <tr>\n",
       "      <th>2</th>\n",
       "      <td>17.2</td>\n",
       "      <td>45.9</td>\n",
       "      <td>69.3</td>\n",
       "      <td>9.3</td>\n",
       "    </tr>\n",
       "    <tr>\n",
       "      <th>3</th>\n",
       "      <td>151.5</td>\n",
       "      <td>41.3</td>\n",
       "      <td>58.5</td>\n",
       "      <td>18.5</td>\n",
       "    </tr>\n",
       "    <tr>\n",
       "      <th>4</th>\n",
       "      <td>180.8</td>\n",
       "      <td>10.8</td>\n",
       "      <td>58.4</td>\n",
       "      <td>12.9</td>\n",
       "    </tr>\n",
       "  </tbody>\n",
       "</table>\n",
       "</div>"
      ],
      "text/plain": [
       "      TV  radio  newspaper  sales\n",
       "0  230.1   37.8       69.2   22.1\n",
       "1   44.5   39.3       45.1   10.4\n",
       "2   17.2   45.9       69.3    9.3\n",
       "3  151.5   41.3       58.5   18.5\n",
       "4  180.8   10.8       58.4   12.9"
      ]
     },
     "execution_count": 2,
     "metadata": {},
     "output_type": "execute_result"
    }
   ],
   "source": [
    "df = pd.read_csv(\"../DATA/Advertising.csv\")\n",
    "df.head()"
   ]
  },
  {
   "cell_type": "markdown",
   "metadata": {},
   "source": [
    "----\n",
    "----\n",
    "----\n",
    "## Cross Validation with cross_val_score\n",
    "\n",
    "----\n",
    "\n",
    "<img src=\"grid_search_cross_validation.png\">\n",
    "\n",
    "----"
   ]
  },
  {
   "cell_type": "code",
   "execution_count": 3,
   "metadata": {},
   "outputs": [],
   "source": [
    "## CREATE X and y\n",
    "X = df.drop('sales',axis=1)\n",
    "y = df['sales']\n",
    "\n",
    "# TRAIN TEST SPLIT\n",
    "from sklearn.model_selection import train_test_split\n",
    "X_train, X_test, y_train, y_test = train_test_split(X, y, test_size=0.3, random_state=101)\n",
    "\n",
    "# SCALE DATA\n",
    "from sklearn.preprocessing import StandardScaler\n",
    "scaler = StandardScaler()\n",
    "scaler.fit(X_train)\n",
    "X_train = scaler.transform(X_train)\n",
    "X_test = scaler.transform(X_test)"
   ]
  },
  {
   "cell_type": "code",
   "execution_count": 4,
   "metadata": {},
   "outputs": [],
   "source": [
    "model = Ridge(alpha=500)"
   ]
  },
  {
   "cell_type": "code",
   "execution_count": 5,
   "metadata": {},
   "outputs": [],
   "source": [
    "from sklearn.model_selection import cross_val_score"
   ]
  },
  {
   "cell_type": "code",
   "execution_count": 6,
   "metadata": {},
   "outputs": [],
   "source": [
    "# SCORING OPTIONS:\n",
    "# https://scikit-learn.org/stable/modules/model_evaluation.html\n",
    "scores = cross_val_score(model,X_train,y_train,\n",
    "                         scoring='neg_mean_squared_error',cv=5)"
   ]
  },
  {
   "cell_type": "code",
   "execution_count": 7,
   "metadata": {},
   "outputs": [
    {
     "data": {
      "text/plain": [
       "array([-21.40919138, -14.4453436 , -22.30375678, -18.54557771,\n",
       "       -15.57730531])"
      ]
     },
     "execution_count": 7,
     "metadata": {},
     "output_type": "execute_result"
    }
   ],
   "source": [
    "scores"
   ]
  },
  {
   "cell_type": "code",
   "execution_count": 8,
   "metadata": {},
   "outputs": [
    {
     "data": {
      "text/plain": [
       "18.456234954290476"
      ]
     },
     "execution_count": 8,
     "metadata": {},
     "output_type": "execute_result"
    }
   ],
   "source": [
    "# Average of the MSE scores (we set back to positive)\n",
    "abs(scores.mean())"
   ]
  },
  {
   "cell_type": "markdown",
   "metadata": {},
   "source": [
    "**Adjust model based on metrics**"
   ]
  },
  {
   "cell_type": "code",
   "execution_count": 35,
   "metadata": {},
   "outputs": [],
   "source": [
    "model = Ridge(alpha=1)"
   ]
  },
  {
   "cell_type": "code",
   "execution_count": 36,
   "metadata": {},
   "outputs": [],
   "source": [
    "# SCORING OPTIONS:\n",
    "# https://scikit-learn.org/stable/modules/model_evaluation.html\n",
    "scores = cross_val_score(model2,X_train,y_train,\n",
    "                         scoring='neg_mean_squared_error',cv=5)"
   ]
  },
  {
   "cell_type": "code",
   "execution_count": 37,
   "metadata": {},
   "outputs": [
    {
     "data": {
      "text/plain": [
       "3.344839296530695"
      ]
     },
     "execution_count": 37,
     "metadata": {},
     "output_type": "execute_result"
    }
   ],
   "source": [
    "# Average of the MSE scores (we set back to positive)\n",
    "abs(scores.mean())"
   ]
  },
  {
   "cell_type": "markdown",
   "metadata": {},
   "source": [
    "**Final Evaluation (Can no longer edit parameters after this!)**"
   ]
  },
  {
   "cell_type": "code",
   "execution_count": 38,
   "metadata": {},
   "outputs": [
    {
     "data": {
      "text/plain": [
       "Ridge(alpha=1)"
      ]
     },
     "execution_count": 38,
     "metadata": {},
     "output_type": "execute_result"
    }
   ],
   "source": [
    "# Need to fit the model first!\n",
    "model.fit(X_train,y_train)"
   ]
  },
  {
   "cell_type": "code",
   "execution_count": 39,
   "metadata": {},
   "outputs": [],
   "source": [
    "y_final_test_pred = model.predict(X_test)"
   ]
  },
  {
   "cell_type": "code",
   "execution_count": 44,
   "metadata": {},
   "outputs": [
    {
     "name": "stdout",
     "output_type": "stream",
     "text": [
      "This is reported to the boss \n",
      " the mean square error is 2.3190215794287514\n"
     ]
    }
   ],
   "source": [
    "print(f'This is reported to the boss \\n the mean squared error is {mean_squared_error(y_test,y_final_test_pred)}')\n"
   ]
  },
  {
   "cell_type": "markdown",
   "metadata": {},
   "source": [
    "----\n",
    "----\n",
    "----\n",
    "\n",
    "# Cross Validation with cross_validate\n",
    "\n",
    "The cross_validate function differs from cross_val_score in two ways:\n",
    "\n",
    "It allows specifying multiple metrics for evaluation.\n",
    "\n",
    "It returns a dict containing fit-times, score-times (and optionally training scores as well as fitted estimators) in addition to the test score.\n",
    "\n",
    "For single metric evaluation, where the scoring parameter is a string, callable or None, the keys will be:\n",
    "        \n",
    "        - ['test_score', 'fit_time', 'score_time']\n",
    "\n",
    "And for multiple metric evaluation, the return value is a dict with the following keys:\n",
    "\n",
    "    ['test_<scorer1_name>', 'test_<scorer2_name>', 'test_<scorer...>', 'fit_time', 'score_time']\n",
    "\n",
    "return_train_score is set to False by default to save computation time. To evaluate the scores on the training set as well you need to be set to True."
   ]
  },
  {
   "cell_type": "code",
   "execution_count": 45,
   "metadata": {},
   "outputs": [],
   "source": [
    "## CREATE X and y\n",
    "X = df.drop('sales',axis=1)\n",
    "y = df['sales']\n",
    "\n",
    "# TRAIN TEST SPLIT\n",
    "from sklearn.model_selection import train_test_split\n",
    "X_train, X_test, y_train, y_test = train_test_split(X, y, test_size=0.3, random_state=101)\n",
    "\n",
    "# SCALE DATA\n",
    "from sklearn.preprocessing import StandardScaler\n",
    "scaler = StandardScaler()\n",
    "scaler.fit(X_train)\n",
    "X_train = scaler.transform(X_train)\n",
    "X_test = scaler.transform(X_test)"
   ]
  },
  {
   "cell_type": "code",
   "execution_count": 46,
   "metadata": {},
   "outputs": [],
   "source": [
    "model = Ridge(alpha=100)"
   ]
  },
  {
   "cell_type": "code",
   "execution_count": 47,
   "metadata": {},
   "outputs": [],
   "source": [
    "from sklearn.model_selection import cross_validate"
   ]
  },
  {
   "cell_type": "code",
   "execution_count": 51,
   "metadata": {},
   "outputs": [],
   "source": [
    "# SCORING OPTIONS:\n",
    "# https://scikit-learn.org/stable/modules/model_evaluation.html\n",
    "scores = cross_validate(model,X_train,y_train,\n",
    "                         scoring=['neg_mean_absolute_error','neg_mean_squared_error','max_error','r2'],cv=50)"
   ]
  },
  {
   "cell_type": "code",
   "execution_count": 52,
   "metadata": {},
   "outputs": [
    {
     "data": {
      "text/plain": [
       "{'fit_time': array([0.        , 0.00099993, 0.00103354, 0.        , 0.        ,\n",
       "        0.00100064, 0.00100136, 0.00099897, 0.        , 0.0010004 ,\n",
       "        0.        , 0.00099945, 0.        , 0.00099993, 0.        ,\n",
       "        0.00100207, 0.00100088, 0.        , 0.00096822, 0.        ,\n",
       "        0.        , 0.        , 0.        , 0.00100017, 0.0009985 ,\n",
       "        0.        , 0.00100303, 0.00099993, 0.        , 0.00098968,\n",
       "        0.00099993, 0.        , 0.        , 0.00099969, 0.        ,\n",
       "        0.        , 0.00099969, 0.0010016 , 0.00096965, 0.        ,\n",
       "        0.00099945, 0.        , 0.00097322, 0.        , 0.00100255,\n",
       "        0.        , 0.        , 0.00099683, 0.00099301, 0.        ]),\n",
       " 'score_time': array([0.00100899, 0.        , 0.        , 0.0010004 , 0.00099969,\n",
       "        0.00100064, 0.00099921, 0.        , 0.00100112, 0.00099945,\n",
       "        0.00099921, 0.00099993, 0.00100017, 0.        , 0.00099993,\n",
       "        0.00099969, 0.        , 0.00100183, 0.        , 0.00097036,\n",
       "        0.00096798, 0.0010283 , 0.00100017, 0.        , 0.0009985 ,\n",
       "        0.0010004 , 0.00099802, 0.        , 0.00101018, 0.00100136,\n",
       "        0.        , 0.00102854, 0.0010004 , 0.        , 0.00099707,\n",
       "        0.0010004 , 0.00097203, 0.00102878, 0.        , 0.00100207,\n",
       "        0.        , 0.00099969, 0.00102806, 0.00099993, 0.        ,\n",
       "        0.0010004 , 0.00099993, 0.00098062, 0.00102997, 0.0010004 ]),\n",
       " 'test_neg_mean_absolute_error': array([-2.21286302, -3.10200349, -0.46444499, -2.14479476, -0.63275778,\n",
       "        -3.77511795, -2.51188967, -2.1066961 , -2.10044328, -1.6640004 ,\n",
       "        -1.9138175 , -1.05843774, -0.36549505, -2.19898919, -1.11042109,\n",
       "        -2.14314102, -1.78899031, -1.35957986, -2.65628938, -2.71539584,\n",
       "        -1.60077994, -1.60276791, -2.69023651, -6.77230137, -2.29450966,\n",
       "        -1.3249564 , -1.56010908, -0.86288126, -2.68162644, -1.79951089,\n",
       "        -0.32714751, -1.33433044, -0.59332882, -1.89597019, -1.82052473,\n",
       "        -3.36757934, -3.32128844, -2.23061037, -1.96356072, -1.99542615,\n",
       "        -2.28310226, -0.93690329, -3.76937879, -1.38965027, -1.0205193 ,\n",
       "        -3.00707347, -3.81890346, -0.53364875, -2.08500036, -1.43553997]),\n",
       " 'test_neg_mean_squared_error': array([-11.31718475,  -9.72668525,  -0.33271588,  -5.62273487,\n",
       "         -0.53756793, -18.93203371, -11.69615456,  -8.08223064,\n",
       "         -6.38789028,  -4.39774296,  -3.79068448,  -1.15246459,\n",
       "         -0.20149557,  -9.3856469 ,  -2.60082167,  -4.94971487,\n",
       "         -4.66516261,  -2.92766814,  -8.28429233,  -7.85948517,\n",
       "         -3.82434657,  -5.02021994, -11.08346063, -52.49500142,\n",
       "         -7.69420968,  -2.28566234,  -3.23054531,  -1.23389184,\n",
       "         -9.55974446,  -5.00947614,  -0.21451712,  -1.94108242,\n",
       "         -0.46424653,  -4.07672741,  -5.03854619, -16.21778394,\n",
       "        -14.97949812,  -6.5100885 ,  -5.568963  ,  -4.48231872,\n",
       "         -7.17035234,  -0.94566369, -25.43554571,  -1.98086984,\n",
       "         -1.13747458, -12.84077339, -17.10316592,  -0.29665813,\n",
       "         -4.4086436 ,  -2.18607359]),\n",
       " 'test_max_error': array([ -5.76873377,  -3.3603402 ,  -0.91362162,  -3.3653339 ,\n",
       "         -1.1259971 ,  -5.89410697,  -5.78476983,  -4.7678533 ,\n",
       "         -3.33733954,  -3.34513427,  -2.31165982,  -1.29733659,\n",
       "         -0.66672881,  -5.2155865 ,  -2.73910451,  -2.82655148,\n",
       "         -3.41647177,  -2.78524988,  -4.19779211,  -3.61302351,\n",
       "         -2.81917959,  -3.80190517,  -5.36567643, -10.41233754,\n",
       "         -4.28933803,  -2.28953916,  -2.70233183,  -1.78055576,\n",
       "         -4.66847312,  -3.67295134,  -0.78193447,  -1.79864797,\n",
       "         -1.06199643,  -2.8004618 ,  -3.06760431,  -6.4522385 ,\n",
       "         -6.12235851,  -3.20473933,  -3.44627001,  -2.97845758,\n",
       "         -3.68231505,  -1.19743334,  -7.12009949,  -1.61267933,\n",
       "         -1.33038208,  -4.95599177,  -5.40608407,  -0.64263103,\n",
       "         -2.33282513,  -1.78951536]),\n",
       " 'test_r2': array([ 7.80825739e-01,  5.65557483e-01, -7.71377457e-02,  5.43856014e-01,\n",
       "         9.40107560e-01,  2.92231023e-01,  4.21809343e-01,  7.61461023e-01,\n",
       "         8.09240784e-01,  7.06860564e-01,  2.63785924e-01,  7.46277365e-01,\n",
       "         9.12477792e-01,  7.56722475e-01,  4.47678267e-01,  8.59887294e-01,\n",
       "         8.42546826e-01,  8.37371847e-01, -9.22605235e-01,  5.87548883e-01,\n",
       "         3.36306997e-01,  6.44348399e-01,  3.80196684e-01,  5.07736296e-01,\n",
       "         5.81081725e-02,  7.14292207e-01,  8.91866603e-01,  7.56895215e-01,\n",
       "         8.08907027e-01,  7.81584705e-01,  9.46989179e-01, -1.44806146e-01,\n",
       "         2.51215282e-01,  8.59949055e-01,  8.66004031e-01,  6.20607051e-01,\n",
       "        -7.23049347e+00,  1.74079554e-01,  2.33863237e-01, -1.48710656e+00,\n",
       "         5.73447213e-01, -9.35663688e+01, -6.43186142e+00,  7.17925263e-01,\n",
       "         9.49585614e-01,  5.67687117e-01,  5.32732302e-01,  7.03341873e-01,\n",
       "         5.10150711e-01, -3.39771774e+01])}"
      ]
     },
     "execution_count": 52,
     "metadata": {},
     "output_type": "execute_result"
    }
   ],
   "source": [
    "scores"
   ]
  },
  {
   "cell_type": "code",
   "execution_count": 53,
   "metadata": {},
   "outputs": [
    {
     "data": {
      "text/html": [
       "<div>\n",
       "<style scoped>\n",
       "    .dataframe tbody tr th:only-of-type {\n",
       "        vertical-align: middle;\n",
       "    }\n",
       "\n",
       "    .dataframe tbody tr th {\n",
       "        vertical-align: top;\n",
       "    }\n",
       "\n",
       "    .dataframe thead th {\n",
       "        text-align: right;\n",
       "    }\n",
       "</style>\n",
       "<table border=\"1\" class=\"dataframe\">\n",
       "  <thead>\n",
       "    <tr style=\"text-align: right;\">\n",
       "      <th></th>\n",
       "      <th>fit_time</th>\n",
       "      <th>score_time</th>\n",
       "      <th>test_neg_mean_absolute_error</th>\n",
       "      <th>test_neg_mean_squared_error</th>\n",
       "      <th>test_max_error</th>\n",
       "      <th>test_r2</th>\n",
       "    </tr>\n",
       "  </thead>\n",
       "  <tbody>\n",
       "    <tr>\n",
       "      <th>0</th>\n",
       "      <td>0.000000</td>\n",
       "      <td>0.001009</td>\n",
       "      <td>-2.212863</td>\n",
       "      <td>-11.317185</td>\n",
       "      <td>-5.768734</td>\n",
       "      <td>0.780826</td>\n",
       "    </tr>\n",
       "    <tr>\n",
       "      <th>1</th>\n",
       "      <td>0.001000</td>\n",
       "      <td>0.000000</td>\n",
       "      <td>-3.102003</td>\n",
       "      <td>-9.726685</td>\n",
       "      <td>-3.360340</td>\n",
       "      <td>0.565557</td>\n",
       "    </tr>\n",
       "    <tr>\n",
       "      <th>2</th>\n",
       "      <td>0.001034</td>\n",
       "      <td>0.000000</td>\n",
       "      <td>-0.464445</td>\n",
       "      <td>-0.332716</td>\n",
       "      <td>-0.913622</td>\n",
       "      <td>-0.077138</td>\n",
       "    </tr>\n",
       "    <tr>\n",
       "      <th>3</th>\n",
       "      <td>0.000000</td>\n",
       "      <td>0.001000</td>\n",
       "      <td>-2.144795</td>\n",
       "      <td>-5.622735</td>\n",
       "      <td>-3.365334</td>\n",
       "      <td>0.543856</td>\n",
       "    </tr>\n",
       "    <tr>\n",
       "      <th>4</th>\n",
       "      <td>0.000000</td>\n",
       "      <td>0.001000</td>\n",
       "      <td>-0.632758</td>\n",
       "      <td>-0.537568</td>\n",
       "      <td>-1.125997</td>\n",
       "      <td>0.940108</td>\n",
       "    </tr>\n",
       "    <tr>\n",
       "      <th>5</th>\n",
       "      <td>0.001001</td>\n",
       "      <td>0.001001</td>\n",
       "      <td>-3.775118</td>\n",
       "      <td>-18.932034</td>\n",
       "      <td>-5.894107</td>\n",
       "      <td>0.292231</td>\n",
       "    </tr>\n",
       "    <tr>\n",
       "      <th>6</th>\n",
       "      <td>0.001001</td>\n",
       "      <td>0.000999</td>\n",
       "      <td>-2.511890</td>\n",
       "      <td>-11.696155</td>\n",
       "      <td>-5.784770</td>\n",
       "      <td>0.421809</td>\n",
       "    </tr>\n",
       "    <tr>\n",
       "      <th>7</th>\n",
       "      <td>0.000999</td>\n",
       "      <td>0.000000</td>\n",
       "      <td>-2.106696</td>\n",
       "      <td>-8.082231</td>\n",
       "      <td>-4.767853</td>\n",
       "      <td>0.761461</td>\n",
       "    </tr>\n",
       "    <tr>\n",
       "      <th>8</th>\n",
       "      <td>0.000000</td>\n",
       "      <td>0.001001</td>\n",
       "      <td>-2.100443</td>\n",
       "      <td>-6.387890</td>\n",
       "      <td>-3.337340</td>\n",
       "      <td>0.809241</td>\n",
       "    </tr>\n",
       "    <tr>\n",
       "      <th>9</th>\n",
       "      <td>0.001000</td>\n",
       "      <td>0.000999</td>\n",
       "      <td>-1.664000</td>\n",
       "      <td>-4.397743</td>\n",
       "      <td>-3.345134</td>\n",
       "      <td>0.706861</td>\n",
       "    </tr>\n",
       "    <tr>\n",
       "      <th>10</th>\n",
       "      <td>0.000000</td>\n",
       "      <td>0.000999</td>\n",
       "      <td>-1.913818</td>\n",
       "      <td>-3.790684</td>\n",
       "      <td>-2.311660</td>\n",
       "      <td>0.263786</td>\n",
       "    </tr>\n",
       "    <tr>\n",
       "      <th>11</th>\n",
       "      <td>0.000999</td>\n",
       "      <td>0.001000</td>\n",
       "      <td>-1.058438</td>\n",
       "      <td>-1.152465</td>\n",
       "      <td>-1.297337</td>\n",
       "      <td>0.746277</td>\n",
       "    </tr>\n",
       "    <tr>\n",
       "      <th>12</th>\n",
       "      <td>0.000000</td>\n",
       "      <td>0.001000</td>\n",
       "      <td>-0.365495</td>\n",
       "      <td>-0.201496</td>\n",
       "      <td>-0.666729</td>\n",
       "      <td>0.912478</td>\n",
       "    </tr>\n",
       "    <tr>\n",
       "      <th>13</th>\n",
       "      <td>0.001000</td>\n",
       "      <td>0.000000</td>\n",
       "      <td>-2.198989</td>\n",
       "      <td>-9.385647</td>\n",
       "      <td>-5.215587</td>\n",
       "      <td>0.756722</td>\n",
       "    </tr>\n",
       "    <tr>\n",
       "      <th>14</th>\n",
       "      <td>0.000000</td>\n",
       "      <td>0.001000</td>\n",
       "      <td>-1.110421</td>\n",
       "      <td>-2.600822</td>\n",
       "      <td>-2.739105</td>\n",
       "      <td>0.447678</td>\n",
       "    </tr>\n",
       "    <tr>\n",
       "      <th>15</th>\n",
       "      <td>0.001002</td>\n",
       "      <td>0.001000</td>\n",
       "      <td>-2.143141</td>\n",
       "      <td>-4.949715</td>\n",
       "      <td>-2.826551</td>\n",
       "      <td>0.859887</td>\n",
       "    </tr>\n",
       "    <tr>\n",
       "      <th>16</th>\n",
       "      <td>0.001001</td>\n",
       "      <td>0.000000</td>\n",
       "      <td>-1.788990</td>\n",
       "      <td>-4.665163</td>\n",
       "      <td>-3.416472</td>\n",
       "      <td>0.842547</td>\n",
       "    </tr>\n",
       "    <tr>\n",
       "      <th>17</th>\n",
       "      <td>0.000000</td>\n",
       "      <td>0.001002</td>\n",
       "      <td>-1.359580</td>\n",
       "      <td>-2.927668</td>\n",
       "      <td>-2.785250</td>\n",
       "      <td>0.837372</td>\n",
       "    </tr>\n",
       "    <tr>\n",
       "      <th>18</th>\n",
       "      <td>0.000968</td>\n",
       "      <td>0.000000</td>\n",
       "      <td>-2.656289</td>\n",
       "      <td>-8.284292</td>\n",
       "      <td>-4.197792</td>\n",
       "      <td>-0.922605</td>\n",
       "    </tr>\n",
       "    <tr>\n",
       "      <th>19</th>\n",
       "      <td>0.000000</td>\n",
       "      <td>0.000970</td>\n",
       "      <td>-2.715396</td>\n",
       "      <td>-7.859485</td>\n",
       "      <td>-3.613024</td>\n",
       "      <td>0.587549</td>\n",
       "    </tr>\n",
       "    <tr>\n",
       "      <th>20</th>\n",
       "      <td>0.000000</td>\n",
       "      <td>0.000968</td>\n",
       "      <td>-1.600780</td>\n",
       "      <td>-3.824347</td>\n",
       "      <td>-2.819180</td>\n",
       "      <td>0.336307</td>\n",
       "    </tr>\n",
       "    <tr>\n",
       "      <th>21</th>\n",
       "      <td>0.000000</td>\n",
       "      <td>0.001028</td>\n",
       "      <td>-1.602768</td>\n",
       "      <td>-5.020220</td>\n",
       "      <td>-3.801905</td>\n",
       "      <td>0.644348</td>\n",
       "    </tr>\n",
       "    <tr>\n",
       "      <th>22</th>\n",
       "      <td>0.000000</td>\n",
       "      <td>0.001000</td>\n",
       "      <td>-2.690237</td>\n",
       "      <td>-11.083461</td>\n",
       "      <td>-5.365676</td>\n",
       "      <td>0.380197</td>\n",
       "    </tr>\n",
       "    <tr>\n",
       "      <th>23</th>\n",
       "      <td>0.001000</td>\n",
       "      <td>0.000000</td>\n",
       "      <td>-6.772301</td>\n",
       "      <td>-52.495001</td>\n",
       "      <td>-10.412338</td>\n",
       "      <td>0.507736</td>\n",
       "    </tr>\n",
       "    <tr>\n",
       "      <th>24</th>\n",
       "      <td>0.000998</td>\n",
       "      <td>0.000998</td>\n",
       "      <td>-2.294510</td>\n",
       "      <td>-7.694210</td>\n",
       "      <td>-4.289338</td>\n",
       "      <td>0.058108</td>\n",
       "    </tr>\n",
       "    <tr>\n",
       "      <th>25</th>\n",
       "      <td>0.000000</td>\n",
       "      <td>0.001000</td>\n",
       "      <td>-1.324956</td>\n",
       "      <td>-2.285662</td>\n",
       "      <td>-2.289539</td>\n",
       "      <td>0.714292</td>\n",
       "    </tr>\n",
       "    <tr>\n",
       "      <th>26</th>\n",
       "      <td>0.001003</td>\n",
       "      <td>0.000998</td>\n",
       "      <td>-1.560109</td>\n",
       "      <td>-3.230545</td>\n",
       "      <td>-2.702332</td>\n",
       "      <td>0.891867</td>\n",
       "    </tr>\n",
       "    <tr>\n",
       "      <th>27</th>\n",
       "      <td>0.001000</td>\n",
       "      <td>0.000000</td>\n",
       "      <td>-0.862881</td>\n",
       "      <td>-1.233892</td>\n",
       "      <td>-1.780556</td>\n",
       "      <td>0.756895</td>\n",
       "    </tr>\n",
       "    <tr>\n",
       "      <th>28</th>\n",
       "      <td>0.000000</td>\n",
       "      <td>0.001010</td>\n",
       "      <td>-2.681626</td>\n",
       "      <td>-9.559744</td>\n",
       "      <td>-4.668473</td>\n",
       "      <td>0.808907</td>\n",
       "    </tr>\n",
       "    <tr>\n",
       "      <th>29</th>\n",
       "      <td>0.000990</td>\n",
       "      <td>0.001001</td>\n",
       "      <td>-1.799511</td>\n",
       "      <td>-5.009476</td>\n",
       "      <td>-3.672951</td>\n",
       "      <td>0.781585</td>\n",
       "    </tr>\n",
       "    <tr>\n",
       "      <th>30</th>\n",
       "      <td>0.001000</td>\n",
       "      <td>0.000000</td>\n",
       "      <td>-0.327148</td>\n",
       "      <td>-0.214517</td>\n",
       "      <td>-0.781934</td>\n",
       "      <td>0.946989</td>\n",
       "    </tr>\n",
       "    <tr>\n",
       "      <th>31</th>\n",
       "      <td>0.000000</td>\n",
       "      <td>0.001029</td>\n",
       "      <td>-1.334330</td>\n",
       "      <td>-1.941082</td>\n",
       "      <td>-1.798648</td>\n",
       "      <td>-0.144806</td>\n",
       "    </tr>\n",
       "    <tr>\n",
       "      <th>32</th>\n",
       "      <td>0.000000</td>\n",
       "      <td>0.001000</td>\n",
       "      <td>-0.593329</td>\n",
       "      <td>-0.464247</td>\n",
       "      <td>-1.061996</td>\n",
       "      <td>0.251215</td>\n",
       "    </tr>\n",
       "    <tr>\n",
       "      <th>33</th>\n",
       "      <td>0.001000</td>\n",
       "      <td>0.000000</td>\n",
       "      <td>-1.895970</td>\n",
       "      <td>-4.076727</td>\n",
       "      <td>-2.800462</td>\n",
       "      <td>0.859949</td>\n",
       "    </tr>\n",
       "    <tr>\n",
       "      <th>34</th>\n",
       "      <td>0.000000</td>\n",
       "      <td>0.000997</td>\n",
       "      <td>-1.820525</td>\n",
       "      <td>-5.038546</td>\n",
       "      <td>-3.067604</td>\n",
       "      <td>0.866004</td>\n",
       "    </tr>\n",
       "    <tr>\n",
       "      <th>35</th>\n",
       "      <td>0.000000</td>\n",
       "      <td>0.001000</td>\n",
       "      <td>-3.367579</td>\n",
       "      <td>-16.217784</td>\n",
       "      <td>-6.452239</td>\n",
       "      <td>0.620607</td>\n",
       "    </tr>\n",
       "    <tr>\n",
       "      <th>36</th>\n",
       "      <td>0.001000</td>\n",
       "      <td>0.000972</td>\n",
       "      <td>-3.321288</td>\n",
       "      <td>-14.979498</td>\n",
       "      <td>-6.122359</td>\n",
       "      <td>-7.230493</td>\n",
       "    </tr>\n",
       "    <tr>\n",
       "      <th>37</th>\n",
       "      <td>0.001002</td>\n",
       "      <td>0.001029</td>\n",
       "      <td>-2.230610</td>\n",
       "      <td>-6.510088</td>\n",
       "      <td>-3.204739</td>\n",
       "      <td>0.174080</td>\n",
       "    </tr>\n",
       "    <tr>\n",
       "      <th>38</th>\n",
       "      <td>0.000970</td>\n",
       "      <td>0.000000</td>\n",
       "      <td>-1.963561</td>\n",
       "      <td>-5.568963</td>\n",
       "      <td>-3.446270</td>\n",
       "      <td>0.233863</td>\n",
       "    </tr>\n",
       "    <tr>\n",
       "      <th>39</th>\n",
       "      <td>0.000000</td>\n",
       "      <td>0.001002</td>\n",
       "      <td>-1.995426</td>\n",
       "      <td>-4.482319</td>\n",
       "      <td>-2.978458</td>\n",
       "      <td>-1.487107</td>\n",
       "    </tr>\n",
       "    <tr>\n",
       "      <th>40</th>\n",
       "      <td>0.000999</td>\n",
       "      <td>0.000000</td>\n",
       "      <td>-2.283102</td>\n",
       "      <td>-7.170352</td>\n",
       "      <td>-3.682315</td>\n",
       "      <td>0.573447</td>\n",
       "    </tr>\n",
       "    <tr>\n",
       "      <th>41</th>\n",
       "      <td>0.000000</td>\n",
       "      <td>0.001000</td>\n",
       "      <td>-0.936903</td>\n",
       "      <td>-0.945664</td>\n",
       "      <td>-1.197433</td>\n",
       "      <td>-93.566369</td>\n",
       "    </tr>\n",
       "    <tr>\n",
       "      <th>42</th>\n",
       "      <td>0.000973</td>\n",
       "      <td>0.001028</td>\n",
       "      <td>-3.769379</td>\n",
       "      <td>-25.435546</td>\n",
       "      <td>-7.120099</td>\n",
       "      <td>-6.431861</td>\n",
       "    </tr>\n",
       "    <tr>\n",
       "      <th>43</th>\n",
       "      <td>0.000000</td>\n",
       "      <td>0.001000</td>\n",
       "      <td>-1.389650</td>\n",
       "      <td>-1.980870</td>\n",
       "      <td>-1.612679</td>\n",
       "      <td>0.717925</td>\n",
       "    </tr>\n",
       "    <tr>\n",
       "      <th>44</th>\n",
       "      <td>0.001003</td>\n",
       "      <td>0.000000</td>\n",
       "      <td>-1.020519</td>\n",
       "      <td>-1.137475</td>\n",
       "      <td>-1.330382</td>\n",
       "      <td>0.949586</td>\n",
       "    </tr>\n",
       "    <tr>\n",
       "      <th>45</th>\n",
       "      <td>0.000000</td>\n",
       "      <td>0.001000</td>\n",
       "      <td>-3.007073</td>\n",
       "      <td>-12.840773</td>\n",
       "      <td>-4.955992</td>\n",
       "      <td>0.567687</td>\n",
       "    </tr>\n",
       "    <tr>\n",
       "      <th>46</th>\n",
       "      <td>0.000000</td>\n",
       "      <td>0.001000</td>\n",
       "      <td>-3.818903</td>\n",
       "      <td>-17.103166</td>\n",
       "      <td>-5.406084</td>\n",
       "      <td>0.532732</td>\n",
       "    </tr>\n",
       "    <tr>\n",
       "      <th>47</th>\n",
       "      <td>0.000997</td>\n",
       "      <td>0.000981</td>\n",
       "      <td>-0.533649</td>\n",
       "      <td>-0.296658</td>\n",
       "      <td>-0.642631</td>\n",
       "      <td>0.703342</td>\n",
       "    </tr>\n",
       "    <tr>\n",
       "      <th>48</th>\n",
       "      <td>0.000993</td>\n",
       "      <td>0.001030</td>\n",
       "      <td>-2.085000</td>\n",
       "      <td>-4.408644</td>\n",
       "      <td>-2.332825</td>\n",
       "      <td>0.510151</td>\n",
       "    </tr>\n",
       "    <tr>\n",
       "      <th>49</th>\n",
       "      <td>0.000000</td>\n",
       "      <td>0.001000</td>\n",
       "      <td>-1.435540</td>\n",
       "      <td>-2.186074</td>\n",
       "      <td>-1.789515</td>\n",
       "      <td>-33.977177</td>\n",
       "    </tr>\n",
       "  </tbody>\n",
       "</table>\n",
       "</div>"
      ],
      "text/plain": [
       "    fit_time  score_time  test_neg_mean_absolute_error  \\\n",
       "0   0.000000    0.001009                     -2.212863   \n",
       "1   0.001000    0.000000                     -3.102003   \n",
       "2   0.001034    0.000000                     -0.464445   \n",
       "3   0.000000    0.001000                     -2.144795   \n",
       "4   0.000000    0.001000                     -0.632758   \n",
       "5   0.001001    0.001001                     -3.775118   \n",
       "6   0.001001    0.000999                     -2.511890   \n",
       "7   0.000999    0.000000                     -2.106696   \n",
       "8   0.000000    0.001001                     -2.100443   \n",
       "9   0.001000    0.000999                     -1.664000   \n",
       "10  0.000000    0.000999                     -1.913818   \n",
       "11  0.000999    0.001000                     -1.058438   \n",
       "12  0.000000    0.001000                     -0.365495   \n",
       "13  0.001000    0.000000                     -2.198989   \n",
       "14  0.000000    0.001000                     -1.110421   \n",
       "15  0.001002    0.001000                     -2.143141   \n",
       "16  0.001001    0.000000                     -1.788990   \n",
       "17  0.000000    0.001002                     -1.359580   \n",
       "18  0.000968    0.000000                     -2.656289   \n",
       "19  0.000000    0.000970                     -2.715396   \n",
       "20  0.000000    0.000968                     -1.600780   \n",
       "21  0.000000    0.001028                     -1.602768   \n",
       "22  0.000000    0.001000                     -2.690237   \n",
       "23  0.001000    0.000000                     -6.772301   \n",
       "24  0.000998    0.000998                     -2.294510   \n",
       "25  0.000000    0.001000                     -1.324956   \n",
       "26  0.001003    0.000998                     -1.560109   \n",
       "27  0.001000    0.000000                     -0.862881   \n",
       "28  0.000000    0.001010                     -2.681626   \n",
       "29  0.000990    0.001001                     -1.799511   \n",
       "30  0.001000    0.000000                     -0.327148   \n",
       "31  0.000000    0.001029                     -1.334330   \n",
       "32  0.000000    0.001000                     -0.593329   \n",
       "33  0.001000    0.000000                     -1.895970   \n",
       "34  0.000000    0.000997                     -1.820525   \n",
       "35  0.000000    0.001000                     -3.367579   \n",
       "36  0.001000    0.000972                     -3.321288   \n",
       "37  0.001002    0.001029                     -2.230610   \n",
       "38  0.000970    0.000000                     -1.963561   \n",
       "39  0.000000    0.001002                     -1.995426   \n",
       "40  0.000999    0.000000                     -2.283102   \n",
       "41  0.000000    0.001000                     -0.936903   \n",
       "42  0.000973    0.001028                     -3.769379   \n",
       "43  0.000000    0.001000                     -1.389650   \n",
       "44  0.001003    0.000000                     -1.020519   \n",
       "45  0.000000    0.001000                     -3.007073   \n",
       "46  0.000000    0.001000                     -3.818903   \n",
       "47  0.000997    0.000981                     -0.533649   \n",
       "48  0.000993    0.001030                     -2.085000   \n",
       "49  0.000000    0.001000                     -1.435540   \n",
       "\n",
       "    test_neg_mean_squared_error  test_max_error    test_r2  \n",
       "0                    -11.317185       -5.768734   0.780826  \n",
       "1                     -9.726685       -3.360340   0.565557  \n",
       "2                     -0.332716       -0.913622  -0.077138  \n",
       "3                     -5.622735       -3.365334   0.543856  \n",
       "4                     -0.537568       -1.125997   0.940108  \n",
       "5                    -18.932034       -5.894107   0.292231  \n",
       "6                    -11.696155       -5.784770   0.421809  \n",
       "7                     -8.082231       -4.767853   0.761461  \n",
       "8                     -6.387890       -3.337340   0.809241  \n",
       "9                     -4.397743       -3.345134   0.706861  \n",
       "10                    -3.790684       -2.311660   0.263786  \n",
       "11                    -1.152465       -1.297337   0.746277  \n",
       "12                    -0.201496       -0.666729   0.912478  \n",
       "13                    -9.385647       -5.215587   0.756722  \n",
       "14                    -2.600822       -2.739105   0.447678  \n",
       "15                    -4.949715       -2.826551   0.859887  \n",
       "16                    -4.665163       -3.416472   0.842547  \n",
       "17                    -2.927668       -2.785250   0.837372  \n",
       "18                    -8.284292       -4.197792  -0.922605  \n",
       "19                    -7.859485       -3.613024   0.587549  \n",
       "20                    -3.824347       -2.819180   0.336307  \n",
       "21                    -5.020220       -3.801905   0.644348  \n",
       "22                   -11.083461       -5.365676   0.380197  \n",
       "23                   -52.495001      -10.412338   0.507736  \n",
       "24                    -7.694210       -4.289338   0.058108  \n",
       "25                    -2.285662       -2.289539   0.714292  \n",
       "26                    -3.230545       -2.702332   0.891867  \n",
       "27                    -1.233892       -1.780556   0.756895  \n",
       "28                    -9.559744       -4.668473   0.808907  \n",
       "29                    -5.009476       -3.672951   0.781585  \n",
       "30                    -0.214517       -0.781934   0.946989  \n",
       "31                    -1.941082       -1.798648  -0.144806  \n",
       "32                    -0.464247       -1.061996   0.251215  \n",
       "33                    -4.076727       -2.800462   0.859949  \n",
       "34                    -5.038546       -3.067604   0.866004  \n",
       "35                   -16.217784       -6.452239   0.620607  \n",
       "36                   -14.979498       -6.122359  -7.230493  \n",
       "37                    -6.510088       -3.204739   0.174080  \n",
       "38                    -5.568963       -3.446270   0.233863  \n",
       "39                    -4.482319       -2.978458  -1.487107  \n",
       "40                    -7.170352       -3.682315   0.573447  \n",
       "41                    -0.945664       -1.197433 -93.566369  \n",
       "42                   -25.435546       -7.120099  -6.431861  \n",
       "43                    -1.980870       -1.612679   0.717925  \n",
       "44                    -1.137475       -1.330382   0.949586  \n",
       "45                   -12.840773       -4.955992   0.567687  \n",
       "46                   -17.103166       -5.406084   0.532732  \n",
       "47                    -0.296658       -0.642631   0.703342  \n",
       "48                    -4.408644       -2.332825   0.510151  \n",
       "49                    -2.186074       -1.789515 -33.977177  "
      ]
     },
     "execution_count": 53,
     "metadata": {},
     "output_type": "execute_result"
    }
   ],
   "source": [
    "pd.DataFrame(scores)"
   ]
  },
  {
   "cell_type": "code",
   "execution_count": 54,
   "metadata": {},
   "outputs": [
    {
     "data": {
      "text/plain": [
       "fit_time                        0.000519\n",
       "score_time                      0.000741\n",
       "test_neg_mean_absolute_error   -2.006895\n",
       "test_neg_mean_squared_error    -7.145719\n",
       "test_max_error                 -3.406394\n",
       "test_r2                        -2.347470\n",
       "dtype: float64"
      ]
     },
     "execution_count": 54,
     "metadata": {},
     "output_type": "execute_result"
    }
   ],
   "source": [
    "pd.DataFrame(scores).mean()"
   ]
  },
  {
   "cell_type": "markdown",
   "metadata": {},
   "source": [
    "**Adjust model based on metrics**"
   ]
  },
  {
   "cell_type": "code",
   "execution_count": 82,
   "metadata": {},
   "outputs": [],
   "source": [
    "model = Ridge(alpha=0.5)"
   ]
  },
  {
   "cell_type": "code",
   "execution_count": 83,
   "metadata": {},
   "outputs": [],
   "source": [
    "# SCORING OPTIONS:\n",
    "# https://scikit-learn.org/stable/modules/model_evaluation.html\n",
    "scores = cross_validate(model,X_train,y_train,\n",
    "                         scoring=['neg_mean_absolute_error','neg_mean_squared_error','max_error','r2'],cv=5)"
   ]
  },
  {
   "cell_type": "code",
   "execution_count": 84,
   "metadata": {},
   "outputs": [
    {
     "data": {
      "text/plain": [
       "fit_time                        0.000998\n",
       "score_time                      0.000798\n",
       "test_neg_mean_absolute_error   -1.319874\n",
       "test_neg_mean_squared_error    -3.343919\n",
       "test_max_error                 -5.156009\n",
       "test_r2                         0.862784\n",
       "dtype: float64"
      ]
     },
     "execution_count": 84,
     "metadata": {},
     "output_type": "execute_result"
    }
   ],
   "source": [
    "pd.DataFrame(scores).mean()"
   ]
  },
  {
   "cell_type": "markdown",
   "metadata": {},
   "source": [
    "**Final Evaluation (Can no longer edit parameters after this!)**"
   ]
  },
  {
   "cell_type": "code",
   "execution_count": 85,
   "metadata": {},
   "outputs": [
    {
     "data": {
      "text/plain": [
       "Ridge(alpha=0.5)"
      ]
     },
     "execution_count": 85,
     "metadata": {},
     "output_type": "execute_result"
    }
   ],
   "source": [
    "# Need to fit the model first!\n",
    "model.fit(X_train,y_train)"
   ]
  },
  {
   "cell_type": "code",
   "execution_count": 86,
   "metadata": {},
   "outputs": [],
   "source": [
    "y_final_test_pred = model.predict(X_test)"
   ]
  },
  {
   "cell_type": "code",
   "execution_count": 87,
   "metadata": {},
   "outputs": [
    {
     "data": {
      "text/plain": [
       "2.3086084522858417"
      ]
     },
     "execution_count": 87,
     "metadata": {},
     "output_type": "execute_result"
    }
   ],
   "source": [
    "mean_squared_error(y_test,y_final_test_pred)"
   ]
  },
  {
   "cell_type": "markdown",
   "metadata": {},
   "source": [
    "----\n",
    "----"
   ]
  }
 ],
 "metadata": {
  "anaconda-cloud": {},
  "kernelspec": {
   "display_name": "Python 3",
   "language": "python",
   "name": "python3"
  },
  "language_info": {
   "codemirror_mode": {
    "name": "ipython",
    "version": 3
   },
   "file_extension": ".py",
   "mimetype": "text/x-python",
   "name": "python",
   "nbconvert_exporter": "python",
   "pygments_lexer": "ipython3",
   "version": "3.7.9"
  }
 },
 "nbformat": 4,
 "nbformat_minor": 1
}
